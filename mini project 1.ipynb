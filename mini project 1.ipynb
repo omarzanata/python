{
 "cells": [
  {
   "cell_type": "code",
   "execution_count": 29,
   "id": "a38c4153",
   "metadata": {},
   "outputs": [
    {
     "name": "stdout",
     "output_type": "stream",
     "text": [
      "hey, press [c] to continue to the next or press [s] to stop you experience here \n",
      "c\n",
      "insert two numbers and an operation to begin your experience: \n",
      "\n",
      "please insert a first number: \n",
      "8\n",
      "please insert a second number: \n",
      "9\n",
      "now please choose an operation: \n",
      " 1 for adding. \n",
      " 2 for subtracting. \n",
      " 3 for multplying. \n",
      " 4 for division. \n",
      "3\n",
      "the result is:  72\n",
      "hey, press [c] for continue to the next or press [s] to stop you experience here \n",
      "s\n"
     ]
    }
   ],
   "source": [
    "q=input(\"hey, press [c] to continue to the next or press [s] to stop you experience here \\n\")\n",
    "while q==\"c\":\n",
    "    print(\"insert two numbers and an operation to begin your experience: \\n\")\n",
    "    x=int(input(\"please insert a first number: \\n\"))\n",
    "    y=int(input(\"please insert a second number: \\n\"))\n",
    "    operation=input(\"now please choose an operation: \\n 1 for adding. \\n 2 for subtracting. \\n 3 for multplying. \\n 4 for division. \\n\")\n",
    "    if operation==\"1\":\n",
    "        print(\"the result is: \",x+y)\n",
    "    elif operation==\"2\":\n",
    "        print(\"the result is: \",x-y)\n",
    "    elif operation==\"3\":\n",
    "        print(\"the result is: \",x*y)\n",
    "    elif operation==\"4\":\n",
    "        print(\"the result is: \",x/y)\n",
    "    else:\n",
    "        print(\"please insert a right operation choice\")\n",
    "    q=input(\"hey, press [c] for continue to the next or press [s] to stop you experience here \\n\")\n"
   ]
  },
  {
   "cell_type": "code",
   "execution_count": null,
   "id": "e858a732",
   "metadata": {},
   "outputs": [],
   "source": []
  },
  {
   "cell_type": "code",
   "execution_count": null,
   "id": "5e9eca45",
   "metadata": {},
   "outputs": [],
   "source": []
  }
 ],
 "metadata": {
  "kernelspec": {
   "display_name": "Python 3 (ipykernel)",
   "language": "python",
   "name": "python3"
  },
  "language_info": {
   "codemirror_mode": {
    "name": "ipython",
    "version": 3
   },
   "file_extension": ".py",
   "mimetype": "text/x-python",
   "name": "python",
   "nbconvert_exporter": "python",
   "pygments_lexer": "ipython3",
   "version": "3.10.9"
  }
 },
 "nbformat": 4,
 "nbformat_minor": 5
}
