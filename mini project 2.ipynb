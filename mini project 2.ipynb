{
 "cells": [
  {
   "cell_type": "code",
   "execution_count": 104,
   "id": "795c73ac",
   "metadata": {},
   "outputs": [],
   "source": [
    "import numpy as np\n",
    "def decompostion():\n",
    "    rows=int(input(\"please insert the number of rows: \\n\"))\n",
    "    columns=int(input(\"please insert the number of columns: \\n\"))\n",
    "    array=[]\n",
    "    for i in range(rows):\n",
    "        r_list=[]\n",
    "        for j in range (columns):\n",
    "            r_list.append(int(input(\"begin to insert numbers in your array : \\n\")))\n",
    "        array.append(r_list) \n",
    "    print (array)\n",
    "    dec=input(\"please choose your type of decompostion \\n press 1 for LUP \\n press 2 for QR \\n press 3 for eign \\n\")\n",
    "    if dec==\"1\":\n",
    "        from scipy.linalg import lu\n",
    "        p,l,u=lu(array)\n",
    "        assert np.allclose(p.dot(l).dot(u),array)\n",
    "        return p,l,u\n",
    "    elif dec==\"2\":\n",
    "        q,r=np.linalg.qr(array)\n",
    "        assert np.allclose(q.dot(r),array)\n",
    "        return q,r\n",
    "    elif dec==\"3\":\n",
    "        values,vectors=np.linalg.eig(array)\n",
    "        x=np.dot(array,(vectors[:,0]))\n",
    "        y=np.dot(values[0],(vectors[:,0]))\n",
    "        print (x,\"\\n\",y)\n",
    "        assert np.allclose(x,y)\n",
    "        return values,vectors\n",
    "    else:\n",
    "        return (\"you insert a wrong value\")"
   ]
  },
  {
   "cell_type": "code",
   "execution_count": 106,
   "id": "99e025c7",
   "metadata": {},
   "outputs": [
    {
     "name": "stdout",
     "output_type": "stream",
     "text": [
      "please insert the number of rows: \n",
      "2\n",
      "please insert the number of columns: \n",
      "2\n",
      "begin to insert numbers in your array : \n",
      "3\n",
      "begin to insert numbers in your array : \n",
      "6\n",
      "begin to insert numbers in your array : \n",
      "54\n",
      "begin to insert numbers in your array : \n",
      "7\n",
      "[[3, 6], [54, 7]]\n",
      "please choose your type of decompostion \n",
      " press 1 for LUP \n",
      " press 2 for QR \n",
      " press 3 for eign \n",
      "3\n",
      "[  4.57571423 -12.28638012] \n",
      " [  4.57571423 -12.28638012]\n"
     ]
    },
    {
     "data": {
      "text/plain": [
       "(array([-13.11077028,  23.11077028]),\n",
       " array([[-0.34900423, -0.28589486],\n",
       "        [ 0.93712115, -0.95826099]]))"
      ]
     },
     "execution_count": 106,
     "metadata": {},
     "output_type": "execute_result"
    }
   ],
   "source": [
    "decompostion()"
   ]
  },
  {
   "cell_type": "code",
   "execution_count": null,
   "id": "a7bb7a12",
   "metadata": {},
   "outputs": [],
   "source": []
  }
 ],
 "metadata": {
  "kernelspec": {
   "display_name": "Python 3 (ipykernel)",
   "language": "python",
   "name": "python3"
  },
  "language_info": {
   "codemirror_mode": {
    "name": "ipython",
    "version": 3
   },
   "file_extension": ".py",
   "mimetype": "text/x-python",
   "name": "python",
   "nbconvert_exporter": "python",
   "pygments_lexer": "ipython3",
   "version": "3.9.13"
  }
 },
 "nbformat": 4,
 "nbformat_minor": 5
}
