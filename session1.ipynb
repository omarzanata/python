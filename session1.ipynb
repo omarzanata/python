{
 "cells": [
  {
   "cell_type": "markdown",
   "id": "4f8ca59e",
   "metadata": {},
   "source": [
    "#introduction"
   ]
  },
  {
   "cell_type": "markdown",
   "id": "df86902b",
   "metadata": {},
   "source": [
    "***hello*** world"
   ]
  },
  {
   "cell_type": "code",
   "execution_count": null,
   "id": "3aa15c74",
   "metadata": {},
   "outputs": [],
   "source": []
  },
  {
   "cell_type": "code",
   "execution_count": null,
   "id": "75c67c56",
   "metadata": {},
   "outputs": [],
   "source": []
  },
  {
   "cell_type": "code",
   "execution_count": null,
   "id": "56d3f3e6",
   "metadata": {},
   "outputs": [],
   "source": [
    "glgglg"
   ]
  },
  {
   "cell_type": "code",
   "execution_count": null,
   "id": "80d4d706",
   "metadata": {},
   "outputs": [],
   "source": []
  },
  {
   "cell_type": "code",
   "execution_count": null,
   "id": "6093e9ba",
   "metadata": {},
   "outputs": [],
   "source": []
  }
 ],
 "metadata": {
  "kernelspec": {
   "display_name": "Python 3 (ipykernel)",
   "language": "python",
   "name": "python3"
  },
  "language_info": {
   "codemirror_mode": {
    "name": "ipython",
    "version": 3
   },
   "file_extension": ".py",
   "mimetype": "text/x-python",
   "name": "python",
   "nbconvert_exporter": "python",
   "pygments_lexer": "ipython3",
   "version": "3.10.9"
  }
 },
 "nbformat": 4,
 "nbformat_minor": 5
}
